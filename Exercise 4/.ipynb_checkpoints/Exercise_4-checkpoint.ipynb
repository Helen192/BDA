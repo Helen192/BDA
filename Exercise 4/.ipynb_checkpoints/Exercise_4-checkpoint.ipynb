{
 "cells": [
  {
   "cell_type": "markdown",
   "metadata": {
    "id": "fsJxaHIH-PDa"
   },
   "source": [
    "## Exercise 4: Correlations and preprocessing\n",
    "\n",
    "Before we start applying machine learning algorithms, we want to have a look at further preprocessing and analyzing steps. To do so, this exercise will mainly deal with scaling, dimensionality reduction, correlation measures and the distribution of data points."
   ]
  },
  {
   "cell_type": "code",
   "execution_count": null,
   "metadata": {
    "id": "l8-LFtWl-PDc"
   },
   "outputs": [],
   "source": [
    "import numpy as np\n",
    "import pandas as pd\n",
    "import matplotlib.pyplot as plt\n",
    "from scipy.stats import norm\n",
    "\n",
    "from sklearn.decomposition import PCA\n",
    "from sklearn.preprocessing import scale"
   ]
  },
  {
   "cell_type": "code",
   "execution_count": null,
   "metadata": {
    "id": "ddLad0b--PDd"
   },
   "outputs": [],
   "source": [
    "df = pd.read_csv('data/players_20.csv')#Change path according to your files"
   ]
  },
  {
   "cell_type": "markdown",
   "metadata": {
    "id": "ovkRZCPX-PDd"
   },
   "source": [
    "### correlation vs. causality\n",
    "\n",
    "A common step in data analytics is to investigate correlations between variables. Sometimes these correlations might or might not be derivable from obvious causalities. Create scatter plots of the feature pair 'goalkeeping_handling' and 'goalkeeping_positioning' and the feature pair 'height_cm' and 'gk_speed'. Do not forget to name the axes of the plots and add suitable titles.\n",
    "\n",
    "In addition, calculate and print the Pearson correlation of each feature pair (you can also add the correlation to the title of the plot for a better overview). For calculation, use for example:\n",
    "\n",
    "https://docs.scipy.org/doc/scipy-0.14.0/reference/generated/scipy.stats.pearsonr.html\n",
    "\n",
    "https://pandas.pydata.org/pandas-docs/stable/generated/pandas.Series.corr.html"
   ]
  },
  {
   "cell_type": "code",
   "execution_count": null,
   "metadata": {
    "id": "3Djxl8sM-PDd"
   },
   "outputs": [],
   "source": [
    "#TODO: Make scatter plots, calculate the Pearson correlation, think about it."
   ]
  },
  {
   "cell_type": "markdown",
   "metadata": {
    "id": "iTCRuQiQ-PDe"
   },
   "source": [
    "### investigate distributions\n",
    "\n",
    "Create a histogram of the feature *defending* using 75 bins and the parameter *normed = True*. In addition, plot a normal distribution with the same mean and variance as line plot into the same diagram (it is recommended to use different colors).\n",
    "For plotting the normal distribution you can use:\n",
    "\n",
    "https://docs.scipy.org/doc/numpy-1.13.0/reference/generated/numpy.linspace.html\n",
    "\n",
    "https://docs.scipy.org/doc/scipy-0.16.1/reference/generated/scipy.stats.norm.html\n",
    "\n",
    "What do you observe?"
   ]
  },
  {
   "cell_type": "code",
   "execution_count": null,
   "metadata": {
    "id": "nRuHmLUi-PDe",
    "scrolled": false
   },
   "outputs": [],
   "source": [
    "#TODO: Compute mean and standard deviation, plot both charts in one diagram, what can you see?"
   ]
  }
 ],
 "metadata": {
  "colab": {
   "collapsed_sections": [],
   "name": "Exercise_4(3).ipynb",
   "provenance": []
  },
  "kernelspec": {
   "display_name": "Python 3",
   "language": "python",
   "name": "python3"
  },
  "language_info": {
   "codemirror_mode": {
    "name": "ipython",
    "version": 3
   },
   "file_extension": ".py",
   "mimetype": "text/x-python",
   "name": "python",
   "nbconvert_exporter": "python",
   "pygments_lexer": "ipython3",
   "version": "3.8.8"
  }
 },
 "nbformat": 4,
 "nbformat_minor": 1
}
